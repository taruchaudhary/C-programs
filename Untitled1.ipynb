{
  "nbformat": 4,
  "nbformat_minor": 0,
  "metadata": {
    "colab": {
      "provenance": [],
      "authorship_tag": "ABX9TyPFI3G1W4RJx/UQjkuBsKGW",
      "include_colab_link": true
    },
    "kernelspec": {
      "name": "python3",
      "display_name": "Python 3"
    },
    "language_info": {
      "name": "python"
    }
  },
  "cells": [
    {
      "cell_type": "markdown",
      "metadata": {
        "id": "view-in-github",
        "colab_type": "text"
      },
      "source": [
        "<a href=\"https://colab.research.google.com/github/taruchaudhary/C-programs/blob/main/Untitled1.ipynb\" target=\"_parent\"><img src=\"https://colab.research.google.com/assets/colab-badge.svg\" alt=\"Open In Colab\"/></a>"
      ]
    },
    {
      "cell_type": "code",
      "source": [
        "import math\n",
        "def lcm(a,b):\n",
        " gcd = math.gcd(a, b)\n",
        " lcm = (a * b) // gcd\n",
        " return lcm\n",
        "a=int(input(\"enter the number1: \"))\n",
        "b=int(input(\"enter the number2: \"))\n",
        "print(\"the two number lcm is : \" ,lcm(a,b))\n",
        "\n"
      ],
      "metadata": {
        "colab": {
          "base_uri": "https://localhost:8080/"
        },
        "id": "B4EeX6QZqFoW",
        "outputId": "3816da00-738a-45f4-c2ee-804c0d900fb6"
      },
      "execution_count": null,
      "outputs": [
        {
          "output_type": "stream",
          "name": "stdout",
          "text": [
            "enter the number1: 2\n",
            "enter the number2: 3\n",
            "the two number lcm is :  6\n"
          ]
        }
      ]
    },
    {
      "cell_type": "code",
      "source": [
        "list = [12,67,98,34];\n",
        "l2=[];\n",
        "for i in list:\n",
        "  sum = 0\n",
        "  while(i!=0):\n",
        "    r = i%10\n",
        "    sum+=r\n",
        "    i = i//10\n",
        "  l2.append(sum)\n",
        "print(l2)\n",
        "\n"
      ],
      "metadata": {
        "colab": {
          "base_uri": "https://localhost:8080/"
        },
        "id": "RHw5hDNHtEx1",
        "outputId": "4cf8b254-79d1-4e1b-b2b3-09fa325aef96"
      },
      "execution_count": null,
      "outputs": [
        {
          "output_type": "stream",
          "name": "stdout",
          "text": [
            "[3, 13, 17, 7]\n"
          ]
        }
      ]
    },
    {
      "cell_type": "code",
      "source": [
        "list = [12,3,15,10]\n",
        "del list[0:2]\n",
        "print(list)"
      ],
      "metadata": {
        "colab": {
          "base_uri": "https://localhost:8080/"
        },
        "id": "tQZC_MWH2dNU",
        "outputId": "2d53bb0f-bf32-48f0-e910-d8f482214499"
      },
      "execution_count": null,
      "outputs": [
        {
          "output_type": "stream",
          "name": "stdout",
          "text": [
            "[15, 10]\n"
          ]
        }
      ]
    }
  ]
}